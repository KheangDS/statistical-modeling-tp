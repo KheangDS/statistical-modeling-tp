{
 "cells": [
  {
   "cell_type": "markdown",
   "id": "bebc264b",
   "metadata": {},
   "source": [
    "<h1 style=\"text-align:center;\">I3-TD1: Introduction</h1>"
   ]
  },
  {
   "cell_type": "markdown",
   "id": "416f7e69",
   "metadata": {},
   "source": [
    "# Section 1: Data Visualization"
   ]
  },
  {
   "cell_type": "markdown",
   "id": "99717c4e",
   "metadata": {},
   "source": [
    "## Task 1: Galton Inheredity"
   ]
  },
  {
   "cell_type": "markdown",
   "id": "f4fc03a0",
   "metadata": {},
   "source": [
    "# Section 2: the nassCDS data"
   ]
  },
  {
   "cell_type": "markdown",
   "id": "55ab5883",
   "metadata": {},
   "source": [
    "In this section of the exam, we focus on the nassCDS data which is a US data from police-reported car\n",
    "crashes (1997-2002) in which there is a harmful event (people or property). Data are restricted to front-seat\n",
    "occupants, include only a subset of the variables recorded"
   ]
  },
  {
   "cell_type": "code",
   "execution_count": 7,
   "id": "a6a0209b",
   "metadata": {},
   "outputs": [
    {
     "name": "stdout",
     "output_type": "stream",
     "text": [
      "Collecting nasspython\n",
      "  Downloading nasspython-1.0.0-py3-none-any.whl.metadata (11 kB)\n",
      "Requirement already satisfied: requests in c:\\users\\ngt32\\miniconda3\\lib\\site-packages (from nasspython) (2.32.3)\n",
      "Requirement already satisfied: charset-normalizer<4,>=2 in c:\\users\\ngt32\\miniconda3\\lib\\site-packages (from requests->nasspython) (3.3.2)\n",
      "Requirement already satisfied: idna<4,>=2.5 in c:\\users\\ngt32\\miniconda3\\lib\\site-packages (from requests->nasspython) (3.7)\n",
      "Requirement already satisfied: urllib3<3,>=1.21.1 in c:\\users\\ngt32\\miniconda3\\lib\\site-packages (from requests->nasspython) (2.3.0)\n",
      "Requirement already satisfied: certifi>=2017.4.17 in c:\\users\\ngt32\\miniconda3\\lib\\site-packages (from requests->nasspython) (2025.10.5)\n",
      "Downloading nasspython-1.0.0-py3-none-any.whl (6.0 kB)\n",
      "Installing collected packages: nasspython\n",
      "Successfully installed nasspython-1.0.0\n",
      "Note: you may need to restart the kernel to use updated packages.\n"
     ]
    }
   ],
   "source": [
    "%pip install nasspython"
   ]
  },
  {
   "cell_type": "code",
   "execution_count": 5,
   "id": "5b59a3e1",
   "metadata": {},
   "outputs": [
    {
     "data": {
      "text/html": [
       "<div>\n",
       "<style scoped>\n",
       "    .dataframe tbody tr th:only-of-type {\n",
       "        vertical-align: middle;\n",
       "    }\n",
       "\n",
       "    .dataframe tbody tr th {\n",
       "        vertical-align: top;\n",
       "    }\n",
       "\n",
       "    .dataframe thead th {\n",
       "        text-align: right;\n",
       "    }\n",
       "</style>\n",
       "<table border=\"1\" class=\"dataframe\">\n",
       "  <thead>\n",
       "    <tr style=\"text-align: right;\">\n",
       "      <th></th>\n",
       "      <th>Unnamed: 0</th>\n",
       "      <th>dvcat</th>\n",
       "      <th>weight</th>\n",
       "      <th>dead</th>\n",
       "      <th>airbag</th>\n",
       "      <th>seatbelt</th>\n",
       "      <th>frontal</th>\n",
       "      <th>sex</th>\n",
       "      <th>ageOFocc</th>\n",
       "      <th>yearacc</th>\n",
       "      <th>yearVeh</th>\n",
       "      <th>abcat</th>\n",
       "      <th>occRole</th>\n",
       "      <th>deploy</th>\n",
       "      <th>injSeverity</th>\n",
       "      <th>caseid</th>\n",
       "    </tr>\n",
       "  </thead>\n",
       "  <tbody>\n",
       "    <tr>\n",
       "      <th>0</th>\n",
       "      <td>1</td>\n",
       "      <td>25-39</td>\n",
       "      <td>25.069</td>\n",
       "      <td>alive</td>\n",
       "      <td>none</td>\n",
       "      <td>belted</td>\n",
       "      <td>1</td>\n",
       "      <td>f</td>\n",
       "      <td>26</td>\n",
       "      <td>1997</td>\n",
       "      <td>1990.0</td>\n",
       "      <td>unavail</td>\n",
       "      <td>driver</td>\n",
       "      <td>0</td>\n",
       "      <td>3.0</td>\n",
       "      <td>2:3:1</td>\n",
       "    </tr>\n",
       "    <tr>\n",
       "      <th>1</th>\n",
       "      <td>2</td>\n",
       "      <td>10-24</td>\n",
       "      <td>25.069</td>\n",
       "      <td>alive</td>\n",
       "      <td>airbag</td>\n",
       "      <td>belted</td>\n",
       "      <td>1</td>\n",
       "      <td>f</td>\n",
       "      <td>72</td>\n",
       "      <td>1997</td>\n",
       "      <td>1995.0</td>\n",
       "      <td>deploy</td>\n",
       "      <td>driver</td>\n",
       "      <td>1</td>\n",
       "      <td>1.0</td>\n",
       "      <td>2:3:2</td>\n",
       "    </tr>\n",
       "    <tr>\n",
       "      <th>2</th>\n",
       "      <td>3</td>\n",
       "      <td>10-24</td>\n",
       "      <td>32.379</td>\n",
       "      <td>alive</td>\n",
       "      <td>none</td>\n",
       "      <td>none</td>\n",
       "      <td>1</td>\n",
       "      <td>f</td>\n",
       "      <td>69</td>\n",
       "      <td>1997</td>\n",
       "      <td>1988.0</td>\n",
       "      <td>unavail</td>\n",
       "      <td>driver</td>\n",
       "      <td>0</td>\n",
       "      <td>4.0</td>\n",
       "      <td>2:5:1</td>\n",
       "    </tr>\n",
       "    <tr>\n",
       "      <th>3</th>\n",
       "      <td>4</td>\n",
       "      <td>25-39</td>\n",
       "      <td>495.444</td>\n",
       "      <td>alive</td>\n",
       "      <td>airbag</td>\n",
       "      <td>belted</td>\n",
       "      <td>1</td>\n",
       "      <td>f</td>\n",
       "      <td>53</td>\n",
       "      <td>1997</td>\n",
       "      <td>1995.0</td>\n",
       "      <td>deploy</td>\n",
       "      <td>driver</td>\n",
       "      <td>1</td>\n",
       "      <td>1.0</td>\n",
       "      <td>2:10:1</td>\n",
       "    </tr>\n",
       "    <tr>\n",
       "      <th>4</th>\n",
       "      <td>5</td>\n",
       "      <td>25-39</td>\n",
       "      <td>25.069</td>\n",
       "      <td>alive</td>\n",
       "      <td>none</td>\n",
       "      <td>belted</td>\n",
       "      <td>1</td>\n",
       "      <td>f</td>\n",
       "      <td>32</td>\n",
       "      <td>1997</td>\n",
       "      <td>1988.0</td>\n",
       "      <td>unavail</td>\n",
       "      <td>driver</td>\n",
       "      <td>0</td>\n",
       "      <td>3.0</td>\n",
       "      <td>2:11:1</td>\n",
       "    </tr>\n",
       "  </tbody>\n",
       "</table>\n",
       "</div>"
      ],
      "text/plain": [
       "   Unnamed: 0  dvcat   weight   dead  airbag seatbelt  frontal sex  ageOFocc  \\\n",
       "0           1  25-39   25.069  alive    none   belted        1   f        26   \n",
       "1           2  10-24   25.069  alive  airbag   belted        1   f        72   \n",
       "2           3  10-24   32.379  alive    none     none        1   f        69   \n",
       "3           4  25-39  495.444  alive  airbag   belted        1   f        53   \n",
       "4           5  25-39   25.069  alive    none   belted        1   f        32   \n",
       "\n",
       "   yearacc  yearVeh    abcat occRole  deploy  injSeverity  caseid  \n",
       "0     1997   1990.0  unavail  driver       0          3.0   2:3:1  \n",
       "1     1997   1995.0   deploy  driver       1          1.0   2:3:2  \n",
       "2     1997   1988.0  unavail  driver       0          4.0   2:5:1  \n",
       "3     1997   1995.0   deploy  driver       1          1.0  2:10:1  \n",
       "4     1997   1988.0  unavail  driver       0          3.0  2:11:1  "
      ]
     },
     "execution_count": 5,
     "metadata": {},
     "output_type": "execute_result"
    }
   ],
   "source": [
    "import pandas as pd\n",
    "\n",
    "nass_data = pd.read_csv('./data/nassCDS/nassCDS.csv')\n",
    "nass_data.head()"
   ]
  },
  {
   "cell_type": "markdown",
   "id": "0d00d543",
   "metadata": {},
   "source": [
    "### Question 1"
   ]
  },
  {
   "cell_type": "markdown",
   "id": "3db488ab",
   "metadata": {},
   "source": [
    "In this question we focus on the accident’s outcome (the variable dead) and seatbelt usage (the variable\n",
    "seatbelt)."
   ]
  },
  {
   "cell_type": "markdown",
   "id": "41ee0861",
   "metadata": {},
   "source": [
    "(1.1). How many individuals used seatbelt?"
   ]
  },
  {
   "cell_type": "code",
   "execution_count": 6,
   "id": "2a71a476",
   "metadata": {},
   "outputs": [],
   "source": [
    "import seaborn as sns\n",
    "import matplotlib.pyplot as plt"
   ]
  },
  {
   "cell_type": "code",
   "execution_count": 7,
   "id": "136638e7",
   "metadata": {},
   "outputs": [
    {
     "name": "stdout",
     "output_type": "stream",
     "text": [
      "Use Seatbelt Counts: seatbelt\n",
      "belted    18573\n",
      "none       7644\n",
      "Name: count, dtype: int64\n"
     ]
    }
   ],
   "source": [
    "use_seatbelt_counts = nass_data['seatbelt'].value_counts()\n",
    "print(\"Use Seatbelt Counts:\", use_seatbelt_counts)"
   ]
  },
  {
   "cell_type": "markdown",
   "id": "20465a62",
   "metadata": {},
   "source": [
    "(2.2). What is the distribution of seatbelt usage across the accident’s outcome factor ? Produce a 2X2 table\n",
    "that shows the number of seatbelt users (belted/none) and accident’s outcome (alive/dead)?"
   ]
  },
  {
   "cell_type": "code",
   "execution_count": 8,
   "id": "835a3bd0",
   "metadata": {},
   "outputs": [],
   "source": [
    "table = pd.crosstab(nass_data['seatbelt'], nass_data['dead'], dropna=False)"
   ]
  },
  {
   "cell_type": "code",
   "execution_count": 9,
   "id": "4dd0facc",
   "metadata": {},
   "outputs": [
    {
     "name": "stdout",
     "output_type": "stream",
     "text": [
      "2x2 Table of Seatbelt Usage vs Accident Outcome:\n",
      "\n"
     ]
    },
    {
     "data": {
      "text/plain": [
       "<Axes: xlabel='seatbelt'>"
      ]
     },
     "execution_count": 9,
     "metadata": {},
     "output_type": "execute_result"
    },
    {
     "data": {
      "image/png": "[encoded data removed]",
      "text/plain": [
       "<Figure size 640x480 with 1 Axes>"
      ]
     },
     "metadata": {},
     "output_type": "display_data"
    }
   ],
   "source": [
    "\n",
    "print(\"2x2 Table of Seatbelt Usage vs Accident Outcome:\\n\")\n",
    "table.plot(kind='bar', stacked=True)"
   ]
  },
  {
   "cell_type": "code",
   "execution_count": 13,
   "id": "6c7afe79",
   "metadata": {},
   "outputs": [
    {
     "data": {
      "image/png": "[encoded data removed]",
      "text/plain": [
       "<Figure size 600x400 with 1 Axes>"
      ]
     },
     "metadata": {},
     "output_type": "display_data"
    }
   ],
   "source": [
    "# Heatmap of counts (single axes object) with cell borders and outer border\n",
    "fig, ax = plt.subplots(figsize=(6,4))\n",
    "sns.heatmap(table, annot=True, fmt='d', cmap='Blues', cbar=False, ax=ax,\n",
    "            linewidths=0.8, linecolor='black')\n",
    "\n",
    "for spine in ax.spines.values():\n",
    "    spine.set_visible(True)\n",
    "    spine.set_linewidth(1)\n",
    "    spine.set_color('black')\n",
    "ax.set_title('Counts')\n",
    "plt.tight_layout()\n",
    "plt.show()"
   ]
  }
 ],
 "metadata": {
  "kernelspec": {
   "display_name": "base",
   "language": "python",
   "name": "python3"
  },
  "language_info": {
   "codemirror_mode": {
    "name": "ipython",
    "version": 3
   },
   "file_extension": ".py",
   "mimetype": "text/x-python",
   "name": "python",
   "nbconvert_exporter": "python",
   "pygments_lexer": "ipython3",
   "version": "3.11.13"
  }
 },
 "nbformat": 4,
 "nbformat_minor": 5
}
